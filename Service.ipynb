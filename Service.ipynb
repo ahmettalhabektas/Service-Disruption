{
 "cells": [
  {
   "cell_type": "markdown",
   "id": "b437983f",
   "metadata": {},
   "source": [
    "# reading and understanding data"
   ]
  },
  {
   "cell_type": "code",
   "execution_count": 1,
   "id": "5db43627",
   "metadata": {},
   "outputs": [],
   "source": [
    "import pandas as pd"
   ]
  },
  {
   "cell_type": "code",
   "execution_count": 2,
   "id": "3984fd1b",
   "metadata": {},
   "outputs": [],
   "source": [
    "df1=pd.read_csv(\"event_type.csv\")"
   ]
  },
  {
   "cell_type": "code",
   "execution_count": 3,
   "id": "7acb112c",
   "metadata": {},
   "outputs": [
    {
     "data": {
      "text/plain": [
       "(31170, 2)"
      ]
     },
     "execution_count": 3,
     "metadata": {},
     "output_type": "execute_result"
    }
   ],
   "source": [
    "df1.shape"
   ]
  },
  {
   "cell_type": "code",
   "execution_count": 4,
   "id": "7a8a1941",
   "metadata": {},
   "outputs": [],
   "source": [
    "df1.sort_values(\"id\",inplace=True)"
   ]
  },
  {
   "cell_type": "code",
   "execution_count": 5,
   "id": "6d695e9a",
   "metadata": {},
   "outputs": [],
   "source": [
    "df1['event_type'] = df1['event_type'].astype('str').str.extractall('(\\d+)').unstack().fillna('').sum(axis=1).astype(int).astype(str)"
   ]
  },
  {
   "cell_type": "code",
   "execution_count": 6,
   "id": "b9918e7f",
   "metadata": {
    "scrolled": true
   },
   "outputs": [
    {
     "data": {
      "text/html": [
       "<div>\n",
       "<style scoped>\n",
       "    .dataframe tbody tr th:only-of-type {\n",
       "        vertical-align: middle;\n",
       "    }\n",
       "\n",
       "    .dataframe tbody tr th {\n",
       "        vertical-align: top;\n",
       "    }\n",
       "\n",
       "    .dataframe thead th {\n",
       "        text-align: right;\n",
       "    }\n",
       "</style>\n",
       "<table border=\"1\" class=\"dataframe\">\n",
       "  <thead>\n",
       "    <tr style=\"text-align: right;\">\n",
       "      <th></th>\n",
       "      <th>id</th>\n",
       "      <th>event_type</th>\n",
       "    </tr>\n",
       "  </thead>\n",
       "  <tbody>\n",
       "    <tr>\n",
       "      <th>18299</th>\n",
       "      <td>1</td>\n",
       "      <td>11</td>\n",
       "    </tr>\n",
       "    <tr>\n",
       "      <th>18300</th>\n",
       "      <td>1</td>\n",
       "      <td>13</td>\n",
       "    </tr>\n",
       "    <tr>\n",
       "      <th>14535</th>\n",
       "      <td>2</td>\n",
       "      <td>35</td>\n",
       "    </tr>\n",
       "    <tr>\n",
       "      <th>14536</th>\n",
       "      <td>2</td>\n",
       "      <td>34</td>\n",
       "    </tr>\n",
       "    <tr>\n",
       "      <th>19226</th>\n",
       "      <td>3</td>\n",
       "      <td>11</td>\n",
       "    </tr>\n",
       "    <tr>\n",
       "      <th>...</th>\n",
       "      <td>...</td>\n",
       "      <td>...</td>\n",
       "    </tr>\n",
       "    <tr>\n",
       "      <th>13441</th>\n",
       "      <td>18549</td>\n",
       "      <td>35</td>\n",
       "    </tr>\n",
       "    <tr>\n",
       "      <th>4744</th>\n",
       "      <td>18550</td>\n",
       "      <td>11</td>\n",
       "    </tr>\n",
       "    <tr>\n",
       "      <th>27241</th>\n",
       "      <td>18551</td>\n",
       "      <td>11</td>\n",
       "    </tr>\n",
       "    <tr>\n",
       "      <th>13956</th>\n",
       "      <td>18552</td>\n",
       "      <td>34</td>\n",
       "    </tr>\n",
       "    <tr>\n",
       "      <th>13957</th>\n",
       "      <td>18552</td>\n",
       "      <td>35</td>\n",
       "    </tr>\n",
       "  </tbody>\n",
       "</table>\n",
       "<p>31170 rows × 2 columns</p>\n",
       "</div>"
      ],
      "text/plain": [
       "          id event_type\n",
       "18299      1         11\n",
       "18300      1         13\n",
       "14535      2         35\n",
       "14536      2         34\n",
       "19226      3         11\n",
       "...      ...        ...\n",
       "13441  18549         35\n",
       "4744   18550         11\n",
       "27241  18551         11\n",
       "13956  18552         34\n",
       "13957  18552         35\n",
       "\n",
       "[31170 rows x 2 columns]"
      ]
     },
     "execution_count": 6,
     "metadata": {},
     "output_type": "execute_result"
    }
   ],
   "source": [
    "df1.drop_duplicates()"
   ]
  },
  {
   "cell_type": "code",
   "execution_count": 7,
   "id": "f7f44dbe",
   "metadata": {},
   "outputs": [
    {
     "data": {
      "text/plain": [
       "(31170, 2)"
      ]
     },
     "execution_count": 7,
     "metadata": {},
     "output_type": "execute_result"
    }
   ],
   "source": [
    "df1.shape"
   ]
  },
  {
   "cell_type": "code",
   "execution_count": 8,
   "id": "6a4c57bf",
   "metadata": {},
   "outputs": [
    {
     "name": "stdout",
     "output_type": "stream",
     "text": [
      "<class 'pandas.core.frame.DataFrame'>\n",
      "Int64Index: 31170 entries, 18299 to 13957\n",
      "Data columns (total 2 columns):\n",
      " #   Column      Non-Null Count  Dtype \n",
      "---  ------      --------------  ----- \n",
      " 0   id          31170 non-null  int64 \n",
      " 1   event_type  31170 non-null  object\n",
      "dtypes: int64(1), object(1)\n",
      "memory usage: 730.5+ KB\n"
     ]
    }
   ],
   "source": [
    "df1.info()"
   ]
  },
  {
   "cell_type": "code",
   "execution_count": 9,
   "id": "e08361f0",
   "metadata": {},
   "outputs": [],
   "source": [
    "df2=pd.read_csv(\"log_feature.csv\")"
   ]
  },
  {
   "cell_type": "code",
   "execution_count": 10,
   "id": "eb4e56ac",
   "metadata": {},
   "outputs": [
    {
     "data": {
      "text/plain": [
       "(58671, 3)"
      ]
     },
     "execution_count": 10,
     "metadata": {},
     "output_type": "execute_result"
    }
   ],
   "source": [
    "df2.shape"
   ]
  },
  {
   "cell_type": "code",
   "execution_count": 11,
   "id": "21f6225c",
   "metadata": {},
   "outputs": [],
   "source": [
    "df2.sort_values(\"id\",inplace=True)"
   ]
  },
  {
   "cell_type": "code",
   "execution_count": 12,
   "id": "6e8a11fc",
   "metadata": {},
   "outputs": [],
   "source": [
    "df2['log_feature'] = df2['log_feature'].astype('str').str.extractall('(\\d+)').unstack().fillna('').sum(axis=1).astype(int).astype(str)"
   ]
  },
  {
   "cell_type": "code",
   "execution_count": 13,
   "id": "1e367cef",
   "metadata": {
    "scrolled": true
   },
   "outputs": [
    {
     "data": {
      "text/html": [
       "<div>\n",
       "<style scoped>\n",
       "    .dataframe tbody tr th:only-of-type {\n",
       "        vertical-align: middle;\n",
       "    }\n",
       "\n",
       "    .dataframe tbody tr th {\n",
       "        vertical-align: top;\n",
       "    }\n",
       "\n",
       "    .dataframe thead th {\n",
       "        text-align: right;\n",
       "    }\n",
       "</style>\n",
       "<table border=\"1\" class=\"dataframe\">\n",
       "  <thead>\n",
       "    <tr style=\"text-align: right;\">\n",
       "      <th></th>\n",
       "      <th>id</th>\n",
       "      <th>log_feature</th>\n",
       "      <th>volume</th>\n",
       "    </tr>\n",
       "  </thead>\n",
       "  <tbody>\n",
       "    <tr>\n",
       "      <th>36199</th>\n",
       "      <td>1</td>\n",
       "      <td>179</td>\n",
       "      <td>1</td>\n",
       "    </tr>\n",
       "    <tr>\n",
       "      <th>36197</th>\n",
       "      <td>1</td>\n",
       "      <td>68</td>\n",
       "      <td>2</td>\n",
       "    </tr>\n",
       "    <tr>\n",
       "      <th>36198</th>\n",
       "      <td>1</td>\n",
       "      <td>345</td>\n",
       "      <td>2</td>\n",
       "    </tr>\n",
       "    <tr>\n",
       "      <th>27668</th>\n",
       "      <td>2</td>\n",
       "      <td>312</td>\n",
       "      <td>1</td>\n",
       "    </tr>\n",
       "    <tr>\n",
       "      <th>27670</th>\n",
       "      <td>2</td>\n",
       "      <td>233</td>\n",
       "      <td>1</td>\n",
       "    </tr>\n",
       "    <tr>\n",
       "      <th>...</th>\n",
       "      <td>...</td>\n",
       "      <td>...</td>\n",
       "      <td>...</td>\n",
       "    </tr>\n",
       "    <tr>\n",
       "      <th>8892</th>\n",
       "      <td>18550</td>\n",
       "      <td>74</td>\n",
       "      <td>3</td>\n",
       "    </tr>\n",
       "    <tr>\n",
       "      <th>51615</th>\n",
       "      <td>18551</td>\n",
       "      <td>73</td>\n",
       "      <td>6</td>\n",
       "    </tr>\n",
       "    <tr>\n",
       "      <th>51614</th>\n",
       "      <td>18551</td>\n",
       "      <td>195</td>\n",
       "      <td>1</td>\n",
       "    </tr>\n",
       "    <tr>\n",
       "      <th>26227</th>\n",
       "      <td>18552</td>\n",
       "      <td>312</td>\n",
       "      <td>25</td>\n",
       "    </tr>\n",
       "    <tr>\n",
       "      <th>26226</th>\n",
       "      <td>18552</td>\n",
       "      <td>232</td>\n",
       "      <td>23</td>\n",
       "    </tr>\n",
       "  </tbody>\n",
       "</table>\n",
       "<p>58671 rows × 3 columns</p>\n",
       "</div>"
      ],
      "text/plain": [
       "          id log_feature  volume\n",
       "36199      1         179       1\n",
       "36197      1          68       2\n",
       "36198      1         345       2\n",
       "27668      2         312       1\n",
       "27670      2         233       1\n",
       "...      ...         ...     ...\n",
       "8892   18550          74       3\n",
       "51615  18551          73       6\n",
       "51614  18551         195       1\n",
       "26227  18552         312      25\n",
       "26226  18552         232      23\n",
       "\n",
       "[58671 rows x 3 columns]"
      ]
     },
     "execution_count": 13,
     "metadata": {},
     "output_type": "execute_result"
    }
   ],
   "source": [
    "df2.drop_duplicates()"
   ]
  },
  {
   "cell_type": "code",
   "execution_count": 14,
   "id": "1ad0209c",
   "metadata": {},
   "outputs": [
    {
     "data": {
      "text/plain": [
       "(58671, 3)"
      ]
     },
     "execution_count": 14,
     "metadata": {},
     "output_type": "execute_result"
    }
   ],
   "source": [
    "df2.shape"
   ]
  },
  {
   "cell_type": "code",
   "execution_count": 15,
   "id": "53d5f99b",
   "metadata": {},
   "outputs": [],
   "source": [
    "df3=pd.read_csv(\"resource_type.csv\")"
   ]
  },
  {
   "cell_type": "code",
   "execution_count": 16,
   "id": "ad4b4162",
   "metadata": {},
   "outputs": [
    {
     "data": {
      "text/plain": [
       "(21076, 2)"
      ]
     },
     "execution_count": 16,
     "metadata": {},
     "output_type": "execute_result"
    }
   ],
   "source": [
    "df3.shape"
   ]
  },
  {
   "cell_type": "code",
   "execution_count": 17,
   "id": "2a4caeec",
   "metadata": {},
   "outputs": [],
   "source": [
    "df3.sort_values(\"id\",inplace=True)"
   ]
  },
  {
   "cell_type": "code",
   "execution_count": 18,
   "id": "a34abe8e",
   "metadata": {},
   "outputs": [],
   "source": [
    "df3['resource_type'] = df3['resource_type'].astype('str').str.extractall('(\\d+)').unstack().fillna('').sum(axis=1).astype(int).astype(str)"
   ]
  },
  {
   "cell_type": "code",
   "execution_count": 19,
   "id": "3ad6de32",
   "metadata": {
    "scrolled": true
   },
   "outputs": [
    {
     "data": {
      "text/html": [
       "<div>\n",
       "<style scoped>\n",
       "    .dataframe tbody tr th:only-of-type {\n",
       "        vertical-align: middle;\n",
       "    }\n",
       "\n",
       "    .dataframe tbody tr th {\n",
       "        vertical-align: top;\n",
       "    }\n",
       "\n",
       "    .dataframe thead th {\n",
       "        text-align: right;\n",
       "    }\n",
       "</style>\n",
       "<table border=\"1\" class=\"dataframe\">\n",
       "  <thead>\n",
       "    <tr style=\"text-align: right;\">\n",
       "      <th></th>\n",
       "      <th>id</th>\n",
       "      <th>resource_type</th>\n",
       "    </tr>\n",
       "  </thead>\n",
       "  <tbody>\n",
       "    <tr>\n",
       "      <th>11285</th>\n",
       "      <td>1</td>\n",
       "      <td>6</td>\n",
       "    </tr>\n",
       "    <tr>\n",
       "      <th>11284</th>\n",
       "      <td>1</td>\n",
       "      <td>8</td>\n",
       "    </tr>\n",
       "    <tr>\n",
       "      <th>9069</th>\n",
       "      <td>2</td>\n",
       "      <td>2</td>\n",
       "    </tr>\n",
       "    <tr>\n",
       "      <th>11953</th>\n",
       "      <td>3</td>\n",
       "      <td>8</td>\n",
       "    </tr>\n",
       "    <tr>\n",
       "      <th>12102</th>\n",
       "      <td>4</td>\n",
       "      <td>2</td>\n",
       "    </tr>\n",
       "    <tr>\n",
       "      <th>...</th>\n",
       "      <td>...</td>\n",
       "      <td>...</td>\n",
       "    </tr>\n",
       "    <tr>\n",
       "      <th>6431</th>\n",
       "      <td>18548</td>\n",
       "      <td>2</td>\n",
       "    </tr>\n",
       "    <tr>\n",
       "      <th>8515</th>\n",
       "      <td>18549</td>\n",
       "      <td>2</td>\n",
       "    </tr>\n",
       "    <tr>\n",
       "      <th>3672</th>\n",
       "      <td>18550</td>\n",
       "      <td>8</td>\n",
       "    </tr>\n",
       "    <tr>\n",
       "      <th>18471</th>\n",
       "      <td>18551</td>\n",
       "      <td>8</td>\n",
       "    </tr>\n",
       "    <tr>\n",
       "      <th>8773</th>\n",
       "      <td>18552</td>\n",
       "      <td>2</td>\n",
       "    </tr>\n",
       "  </tbody>\n",
       "</table>\n",
       "<p>21076 rows × 2 columns</p>\n",
       "</div>"
      ],
      "text/plain": [
       "          id resource_type\n",
       "11285      1             6\n",
       "11284      1             8\n",
       "9069       2             2\n",
       "11953      3             8\n",
       "12102      4             2\n",
       "...      ...           ...\n",
       "6431   18548             2\n",
       "8515   18549             2\n",
       "3672   18550             8\n",
       "18471  18551             8\n",
       "8773   18552             2\n",
       "\n",
       "[21076 rows x 2 columns]"
      ]
     },
     "execution_count": 19,
     "metadata": {},
     "output_type": "execute_result"
    }
   ],
   "source": [
    "df3.drop_duplicates()"
   ]
  },
  {
   "cell_type": "code",
   "execution_count": 20,
   "id": "87f978e2",
   "metadata": {},
   "outputs": [
    {
     "data": {
      "text/plain": [
       "(21076, 2)"
      ]
     },
     "execution_count": 20,
     "metadata": {},
     "output_type": "execute_result"
    }
   ],
   "source": [
    "df3.shape"
   ]
  },
  {
   "cell_type": "code",
   "execution_count": 21,
   "id": "8ef3a1c3",
   "metadata": {},
   "outputs": [],
   "source": [
    "df4=pd.read_csv(\"severity_type.csv\")"
   ]
  },
  {
   "cell_type": "code",
   "execution_count": 22,
   "id": "13ab91fc",
   "metadata": {
    "scrolled": true
   },
   "outputs": [
    {
     "data": {
      "text/plain": [
       "(18552, 2)"
      ]
     },
     "execution_count": 22,
     "metadata": {},
     "output_type": "execute_result"
    }
   ],
   "source": [
    "df4.shape"
   ]
  },
  {
   "cell_type": "code",
   "execution_count": 23,
   "id": "9f2c6194",
   "metadata": {},
   "outputs": [],
   "source": [
    "df4.sort_values(\"id\",inplace=True)"
   ]
  },
  {
   "cell_type": "code",
   "execution_count": 24,
   "id": "ef912aae",
   "metadata": {},
   "outputs": [],
   "source": [
    "df4['severity_type'] = df4['severity_type'].astype('str').str.extractall('(\\d+)').unstack().fillna('').sum(axis=1).astype(int).astype(str)"
   ]
  },
  {
   "cell_type": "code",
   "execution_count": 25,
   "id": "7c3399bf",
   "metadata": {
    "scrolled": true
   },
   "outputs": [
    {
     "data": {
      "text/html": [
       "<div>\n",
       "<style scoped>\n",
       "    .dataframe tbody tr th:only-of-type {\n",
       "        vertical-align: middle;\n",
       "    }\n",
       "\n",
       "    .dataframe tbody tr th {\n",
       "        vertical-align: top;\n",
       "    }\n",
       "\n",
       "    .dataframe thead th {\n",
       "        text-align: right;\n",
       "    }\n",
       "</style>\n",
       "<table border=\"1\" class=\"dataframe\">\n",
       "  <thead>\n",
       "    <tr style=\"text-align: right;\">\n",
       "      <th></th>\n",
       "      <th>id</th>\n",
       "      <th>severity_type</th>\n",
       "    </tr>\n",
       "  </thead>\n",
       "  <tbody>\n",
       "    <tr>\n",
       "      <th>10448</th>\n",
       "      <td>1</td>\n",
       "      <td>1</td>\n",
       "    </tr>\n",
       "    <tr>\n",
       "      <th>8351</th>\n",
       "      <td>2</td>\n",
       "      <td>2</td>\n",
       "    </tr>\n",
       "    <tr>\n",
       "      <th>10957</th>\n",
       "      <td>3</td>\n",
       "      <td>1</td>\n",
       "    </tr>\n",
       "    <tr>\n",
       "      <th>11106</th>\n",
       "      <td>4</td>\n",
       "      <td>4</td>\n",
       "    </tr>\n",
       "    <tr>\n",
       "      <th>7736</th>\n",
       "      <td>5</td>\n",
       "      <td>2</td>\n",
       "    </tr>\n",
       "    <tr>\n",
       "      <th>...</th>\n",
       "      <td>...</td>\n",
       "      <td>...</td>\n",
       "    </tr>\n",
       "    <tr>\n",
       "      <th>5863</th>\n",
       "      <td>18548</td>\n",
       "      <td>2</td>\n",
       "    </tr>\n",
       "    <tr>\n",
       "      <th>7804</th>\n",
       "      <td>18549</td>\n",
       "      <td>1</td>\n",
       "    </tr>\n",
       "    <tr>\n",
       "      <th>3262</th>\n",
       "      <td>18550</td>\n",
       "      <td>1</td>\n",
       "    </tr>\n",
       "    <tr>\n",
       "      <th>16278</th>\n",
       "      <td>18551</td>\n",
       "      <td>1</td>\n",
       "    </tr>\n",
       "    <tr>\n",
       "      <th>8060</th>\n",
       "      <td>18552</td>\n",
       "      <td>2</td>\n",
       "    </tr>\n",
       "  </tbody>\n",
       "</table>\n",
       "<p>18552 rows × 2 columns</p>\n",
       "</div>"
      ],
      "text/plain": [
       "          id severity_type\n",
       "10448      1             1\n",
       "8351       2             2\n",
       "10957      3             1\n",
       "11106      4             4\n",
       "7736       5             2\n",
       "...      ...           ...\n",
       "5863   18548             2\n",
       "7804   18549             1\n",
       "3262   18550             1\n",
       "16278  18551             1\n",
       "8060   18552             2\n",
       "\n",
       "[18552 rows x 2 columns]"
      ]
     },
     "execution_count": 25,
     "metadata": {},
     "output_type": "execute_result"
    }
   ],
   "source": [
    "df4.drop_duplicates()"
   ]
  },
  {
   "cell_type": "code",
   "execution_count": 26,
   "id": "45ab0315",
   "metadata": {},
   "outputs": [
    {
     "data": {
      "text/plain": [
       "(18552, 2)"
      ]
     },
     "execution_count": 26,
     "metadata": {},
     "output_type": "execute_result"
    }
   ],
   "source": [
    "df4.shape"
   ]
  },
  {
   "cell_type": "code",
   "execution_count": 27,
   "id": "3fa3f997",
   "metadata": {},
   "outputs": [],
   "source": [
    "df5=pd.read_csv(\"train.csv\")"
   ]
  },
  {
   "cell_type": "code",
   "execution_count": 28,
   "id": "27cc20ec",
   "metadata": {},
   "outputs": [
    {
     "data": {
      "text/plain": [
       "(7381, 3)"
      ]
     },
     "execution_count": 28,
     "metadata": {},
     "output_type": "execute_result"
    }
   ],
   "source": [
    "df5.shape"
   ]
  },
  {
   "cell_type": "code",
   "execution_count": 29,
   "id": "4ce9284e",
   "metadata": {},
   "outputs": [],
   "source": [
    "df5.sort_values(\"id\",inplace=True)"
   ]
  },
  {
   "cell_type": "code",
   "execution_count": 30,
   "id": "ac2624c8",
   "metadata": {},
   "outputs": [],
   "source": [
    "df5['location'] = df5['location'].astype('str').str.extractall('(\\d+)').unstack().fillna('').sum(axis=1).astype(int).astype(str)"
   ]
  },
  {
   "cell_type": "code",
   "execution_count": 31,
   "id": "10b21c73",
   "metadata": {
    "scrolled": true
   },
   "outputs": [
    {
     "data": {
      "text/html": [
       "<div>\n",
       "<style scoped>\n",
       "    .dataframe tbody tr th:only-of-type {\n",
       "        vertical-align: middle;\n",
       "    }\n",
       "\n",
       "    .dataframe tbody tr th {\n",
       "        vertical-align: top;\n",
       "    }\n",
       "\n",
       "    .dataframe thead th {\n",
       "        text-align: right;\n",
       "    }\n",
       "</style>\n",
       "<table border=\"1\" class=\"dataframe\">\n",
       "  <thead>\n",
       "    <tr style=\"text-align: right;\">\n",
       "      <th></th>\n",
       "      <th>id</th>\n",
       "      <th>location</th>\n",
       "      <th>fault_severity</th>\n",
       "    </tr>\n",
       "  </thead>\n",
       "  <tbody>\n",
       "    <tr>\n",
       "      <th>4407</th>\n",
       "      <td>1</td>\n",
       "      <td>601</td>\n",
       "      <td>1</td>\n",
       "    </tr>\n",
       "    <tr>\n",
       "      <th>5694</th>\n",
       "      <td>5</td>\n",
       "      <td>460</td>\n",
       "      <td>0</td>\n",
       "    </tr>\n",
       "    <tr>\n",
       "      <th>279</th>\n",
       "      <td>6</td>\n",
       "      <td>332</td>\n",
       "      <td>1</td>\n",
       "    </tr>\n",
       "    <tr>\n",
       "      <th>4370</th>\n",
       "      <td>8</td>\n",
       "      <td>243</td>\n",
       "      <td>0</td>\n",
       "    </tr>\n",
       "    <tr>\n",
       "      <th>2199</th>\n",
       "      <td>13</td>\n",
       "      <td>418</td>\n",
       "      <td>0</td>\n",
       "    </tr>\n",
       "    <tr>\n",
       "      <th>...</th>\n",
       "      <td>...</td>\n",
       "      <td>...</td>\n",
       "      <td>...</td>\n",
       "    </tr>\n",
       "    <tr>\n",
       "      <th>847</th>\n",
       "      <td>18539</td>\n",
       "      <td>147</td>\n",
       "      <td>0</td>\n",
       "    </tr>\n",
       "    <tr>\n",
       "      <th>3312</th>\n",
       "      <td>18542</td>\n",
       "      <td>495</td>\n",
       "      <td>0</td>\n",
       "    </tr>\n",
       "    <tr>\n",
       "      <th>7020</th>\n",
       "      <td>18543</td>\n",
       "      <td>998</td>\n",
       "      <td>1</td>\n",
       "    </tr>\n",
       "    <tr>\n",
       "      <th>4612</th>\n",
       "      <td>18548</td>\n",
       "      <td>278</td>\n",
       "      <td>0</td>\n",
       "    </tr>\n",
       "    <tr>\n",
       "      <th>1966</th>\n",
       "      <td>18550</td>\n",
       "      <td>12</td>\n",
       "      <td>0</td>\n",
       "    </tr>\n",
       "  </tbody>\n",
       "</table>\n",
       "<p>7381 rows × 3 columns</p>\n",
       "</div>"
      ],
      "text/plain": [
       "         id location  fault_severity\n",
       "4407      1      601               1\n",
       "5694      5      460               0\n",
       "279       6      332               1\n",
       "4370      8      243               0\n",
       "2199     13      418               0\n",
       "...     ...      ...             ...\n",
       "847   18539      147               0\n",
       "3312  18542      495               0\n",
       "7020  18543      998               1\n",
       "4612  18548      278               0\n",
       "1966  18550       12               0\n",
       "\n",
       "[7381 rows x 3 columns]"
      ]
     },
     "execution_count": 31,
     "metadata": {},
     "output_type": "execute_result"
    }
   ],
   "source": [
    "df5.drop_duplicates()"
   ]
  },
  {
   "cell_type": "markdown",
   "id": "bfeaa20d",
   "metadata": {},
   "source": [
    "**Merging data**"
   ]
  },
  {
   "cell_type": "code",
   "execution_count": 32,
   "id": "c7a284ea",
   "metadata": {},
   "outputs": [],
   "source": [
    "dfn1=pd.merge(df1,df2,on=\"id\")"
   ]
  },
  {
   "cell_type": "code",
   "execution_count": 33,
   "id": "9d53c8dd",
   "metadata": {},
   "outputs": [],
   "source": [
    "dfn2=pd.merge(df3,df4,on=\"id\")"
   ]
  },
  {
   "cell_type": "code",
   "execution_count": 34,
   "id": "34ef9c6a",
   "metadata": {},
   "outputs": [],
   "source": [
    "dfn3=pd.merge(dfn1,df5,on=\"id\")"
   ]
  },
  {
   "cell_type": "code",
   "execution_count": 35,
   "id": "8729c51a",
   "metadata": {},
   "outputs": [],
   "source": [
    "dfn=pd.merge(dfn2,dfn3,on=\"id\")"
   ]
  },
  {
   "cell_type": "code",
   "execution_count": 36,
   "id": "d454e615",
   "metadata": {},
   "outputs": [
    {
     "data": {
      "text/html": [
       "<div>\n",
       "<style scoped>\n",
       "    .dataframe tbody tr th:only-of-type {\n",
       "        vertical-align: middle;\n",
       "    }\n",
       "\n",
       "    .dataframe tbody tr th {\n",
       "        vertical-align: top;\n",
       "    }\n",
       "\n",
       "    .dataframe thead th {\n",
       "        text-align: right;\n",
       "    }\n",
       "</style>\n",
       "<table border=\"1\" class=\"dataframe\">\n",
       "  <thead>\n",
       "    <tr style=\"text-align: right;\">\n",
       "      <th></th>\n",
       "      <th>id</th>\n",
       "      <th>resource_type</th>\n",
       "      <th>severity_type</th>\n",
       "      <th>event_type</th>\n",
       "      <th>log_feature</th>\n",
       "      <th>volume</th>\n",
       "      <th>location</th>\n",
       "      <th>fault_severity</th>\n",
       "    </tr>\n",
       "  </thead>\n",
       "  <tbody>\n",
       "    <tr>\n",
       "      <th>0</th>\n",
       "      <td>1</td>\n",
       "      <td>6</td>\n",
       "      <td>1</td>\n",
       "      <td>11</td>\n",
       "      <td>179</td>\n",
       "      <td>1</td>\n",
       "      <td>601</td>\n",
       "      <td>1</td>\n",
       "    </tr>\n",
       "    <tr>\n",
       "      <th>1</th>\n",
       "      <td>1</td>\n",
       "      <td>6</td>\n",
       "      <td>1</td>\n",
       "      <td>11</td>\n",
       "      <td>68</td>\n",
       "      <td>2</td>\n",
       "      <td>601</td>\n",
       "      <td>1</td>\n",
       "    </tr>\n",
       "    <tr>\n",
       "      <th>2</th>\n",
       "      <td>1</td>\n",
       "      <td>6</td>\n",
       "      <td>1</td>\n",
       "      <td>11</td>\n",
       "      <td>345</td>\n",
       "      <td>2</td>\n",
       "      <td>601</td>\n",
       "      <td>1</td>\n",
       "    </tr>\n",
       "    <tr>\n",
       "      <th>3</th>\n",
       "      <td>1</td>\n",
       "      <td>6</td>\n",
       "      <td>1</td>\n",
       "      <td>13</td>\n",
       "      <td>179</td>\n",
       "      <td>1</td>\n",
       "      <td>601</td>\n",
       "      <td>1</td>\n",
       "    </tr>\n",
       "    <tr>\n",
       "      <th>4</th>\n",
       "      <td>1</td>\n",
       "      <td>6</td>\n",
       "      <td>1</td>\n",
       "      <td>13</td>\n",
       "      <td>68</td>\n",
       "      <td>2</td>\n",
       "      <td>601</td>\n",
       "      <td>1</td>\n",
       "    </tr>\n",
       "    <tr>\n",
       "      <th>...</th>\n",
       "      <td>...</td>\n",
       "      <td>...</td>\n",
       "      <td>...</td>\n",
       "      <td>...</td>\n",
       "      <td>...</td>\n",
       "      <td>...</td>\n",
       "      <td>...</td>\n",
       "      <td>...</td>\n",
       "    </tr>\n",
       "    <tr>\n",
       "      <th>61834</th>\n",
       "      <td>18548</td>\n",
       "      <td>2</td>\n",
       "      <td>2</td>\n",
       "      <td>35</td>\n",
       "      <td>315</td>\n",
       "      <td>3</td>\n",
       "      <td>278</td>\n",
       "      <td>0</td>\n",
       "    </tr>\n",
       "    <tr>\n",
       "      <th>61835</th>\n",
       "      <td>18548</td>\n",
       "      <td>2</td>\n",
       "      <td>2</td>\n",
       "      <td>35</td>\n",
       "      <td>232</td>\n",
       "      <td>4</td>\n",
       "      <td>278</td>\n",
       "      <td>0</td>\n",
       "    </tr>\n",
       "    <tr>\n",
       "      <th>61836</th>\n",
       "      <td>18548</td>\n",
       "      <td>2</td>\n",
       "      <td>2</td>\n",
       "      <td>35</td>\n",
       "      <td>233</td>\n",
       "      <td>4</td>\n",
       "      <td>278</td>\n",
       "      <td>0</td>\n",
       "    </tr>\n",
       "    <tr>\n",
       "      <th>61837</th>\n",
       "      <td>18550</td>\n",
       "      <td>8</td>\n",
       "      <td>1</td>\n",
       "      <td>11</td>\n",
       "      <td>196</td>\n",
       "      <td>3</td>\n",
       "      <td>12</td>\n",
       "      <td>0</td>\n",
       "    </tr>\n",
       "    <tr>\n",
       "      <th>61838</th>\n",
       "      <td>18550</td>\n",
       "      <td>8</td>\n",
       "      <td>1</td>\n",
       "      <td>11</td>\n",
       "      <td>74</td>\n",
       "      <td>3</td>\n",
       "      <td>12</td>\n",
       "      <td>0</td>\n",
       "    </tr>\n",
       "  </tbody>\n",
       "</table>\n",
       "<p>61839 rows × 8 columns</p>\n",
       "</div>"
      ],
      "text/plain": [
       "          id resource_type severity_type event_type log_feature  volume  \\\n",
       "0          1             6             1         11         179       1   \n",
       "1          1             6             1         11          68       2   \n",
       "2          1             6             1         11         345       2   \n",
       "3          1             6             1         13         179       1   \n",
       "4          1             6             1         13          68       2   \n",
       "...      ...           ...           ...        ...         ...     ...   \n",
       "61834  18548             2             2         35         315       3   \n",
       "61835  18548             2             2         35         232       4   \n",
       "61836  18548             2             2         35         233       4   \n",
       "61837  18550             8             1         11         196       3   \n",
       "61838  18550             8             1         11          74       3   \n",
       "\n",
       "      location  fault_severity  \n",
       "0          601               1  \n",
       "1          601               1  \n",
       "2          601               1  \n",
       "3          601               1  \n",
       "4          601               1  \n",
       "...        ...             ...  \n",
       "61834      278               0  \n",
       "61835      278               0  \n",
       "61836      278               0  \n",
       "61837       12               0  \n",
       "61838       12               0  \n",
       "\n",
       "[61839 rows x 8 columns]"
      ]
     },
     "execution_count": 36,
     "metadata": {},
     "output_type": "execute_result"
    }
   ],
   "source": [
    "dfn"
   ]
  },
  {
   "cell_type": "code",
   "execution_count": 37,
   "id": "62eaa2c3",
   "metadata": {},
   "outputs": [
    {
     "data": {
      "text/plain": [
       "fault_severity    1.000000\n",
       "id                0.045528\n",
       "volume            0.027196\n",
       "Name: fault_severity, dtype: float64"
      ]
     },
     "execution_count": 37,
     "metadata": {},
     "output_type": "execute_result"
    }
   ],
   "source": [
    "abs(dfn.corr()[\"fault_severity\"]).sort_values(ascending=False)"
   ]
  },
  {
   "cell_type": "markdown",
   "id": "037b0ef6",
   "metadata": {},
   "source": [
    "**PREPRAING DATA**"
   ]
  },
  {
   "cell_type": "code",
   "execution_count": 38,
   "id": "1a6db563",
   "metadata": {},
   "outputs": [],
   "source": [
    "df=pd.get_dummies(dfn)"
   ]
  },
  {
   "cell_type": "code",
   "execution_count": 39,
   "id": "2de1dfed",
   "metadata": {},
   "outputs": [
    {
     "data": {
      "text/html": [
       "<div>\n",
       "<style scoped>\n",
       "    .dataframe tbody tr th:only-of-type {\n",
       "        vertical-align: middle;\n",
       "    }\n",
       "\n",
       "    .dataframe tbody tr th {\n",
       "        vertical-align: top;\n",
       "    }\n",
       "\n",
       "    .dataframe thead th {\n",
       "        text-align: right;\n",
       "    }\n",
       "</style>\n",
       "<table border=\"1\" class=\"dataframe\">\n",
       "  <thead>\n",
       "    <tr style=\"text-align: right;\">\n",
       "      <th></th>\n",
       "      <th>id</th>\n",
       "      <th>volume</th>\n",
       "      <th>fault_severity</th>\n",
       "      <th>resource_type_1</th>\n",
       "      <th>resource_type_10</th>\n",
       "      <th>resource_type_2</th>\n",
       "      <th>resource_type_3</th>\n",
       "      <th>resource_type_4</th>\n",
       "      <th>resource_type_5</th>\n",
       "      <th>resource_type_6</th>\n",
       "      <th>...</th>\n",
       "      <th>location_987</th>\n",
       "      <th>location_989</th>\n",
       "      <th>location_99</th>\n",
       "      <th>location_990</th>\n",
       "      <th>location_991</th>\n",
       "      <th>location_994</th>\n",
       "      <th>location_995</th>\n",
       "      <th>location_996</th>\n",
       "      <th>location_998</th>\n",
       "      <th>location_999</th>\n",
       "    </tr>\n",
       "  </thead>\n",
       "  <tbody>\n",
       "    <tr>\n",
       "      <th>0</th>\n",
       "      <td>1</td>\n",
       "      <td>1</td>\n",
       "      <td>1</td>\n",
       "      <td>0</td>\n",
       "      <td>0</td>\n",
       "      <td>0</td>\n",
       "      <td>0</td>\n",
       "      <td>0</td>\n",
       "      <td>0</td>\n",
       "      <td>1</td>\n",
       "      <td>...</td>\n",
       "      <td>0</td>\n",
       "      <td>0</td>\n",
       "      <td>0</td>\n",
       "      <td>0</td>\n",
       "      <td>0</td>\n",
       "      <td>0</td>\n",
       "      <td>0</td>\n",
       "      <td>0</td>\n",
       "      <td>0</td>\n",
       "      <td>0</td>\n",
       "    </tr>\n",
       "    <tr>\n",
       "      <th>1</th>\n",
       "      <td>1</td>\n",
       "      <td>2</td>\n",
       "      <td>1</td>\n",
       "      <td>0</td>\n",
       "      <td>0</td>\n",
       "      <td>0</td>\n",
       "      <td>0</td>\n",
       "      <td>0</td>\n",
       "      <td>0</td>\n",
       "      <td>1</td>\n",
       "      <td>...</td>\n",
       "      <td>0</td>\n",
       "      <td>0</td>\n",
       "      <td>0</td>\n",
       "      <td>0</td>\n",
       "      <td>0</td>\n",
       "      <td>0</td>\n",
       "      <td>0</td>\n",
       "      <td>0</td>\n",
       "      <td>0</td>\n",
       "      <td>0</td>\n",
       "    </tr>\n",
       "    <tr>\n",
       "      <th>2</th>\n",
       "      <td>1</td>\n",
       "      <td>2</td>\n",
       "      <td>1</td>\n",
       "      <td>0</td>\n",
       "      <td>0</td>\n",
       "      <td>0</td>\n",
       "      <td>0</td>\n",
       "      <td>0</td>\n",
       "      <td>0</td>\n",
       "      <td>1</td>\n",
       "      <td>...</td>\n",
       "      <td>0</td>\n",
       "      <td>0</td>\n",
       "      <td>0</td>\n",
       "      <td>0</td>\n",
       "      <td>0</td>\n",
       "      <td>0</td>\n",
       "      <td>0</td>\n",
       "      <td>0</td>\n",
       "      <td>0</td>\n",
       "      <td>0</td>\n",
       "    </tr>\n",
       "    <tr>\n",
       "      <th>3</th>\n",
       "      <td>1</td>\n",
       "      <td>1</td>\n",
       "      <td>1</td>\n",
       "      <td>0</td>\n",
       "      <td>0</td>\n",
       "      <td>0</td>\n",
       "      <td>0</td>\n",
       "      <td>0</td>\n",
       "      <td>0</td>\n",
       "      <td>1</td>\n",
       "      <td>...</td>\n",
       "      <td>0</td>\n",
       "      <td>0</td>\n",
       "      <td>0</td>\n",
       "      <td>0</td>\n",
       "      <td>0</td>\n",
       "      <td>0</td>\n",
       "      <td>0</td>\n",
       "      <td>0</td>\n",
       "      <td>0</td>\n",
       "      <td>0</td>\n",
       "    </tr>\n",
       "    <tr>\n",
       "      <th>4</th>\n",
       "      <td>1</td>\n",
       "      <td>2</td>\n",
       "      <td>1</td>\n",
       "      <td>0</td>\n",
       "      <td>0</td>\n",
       "      <td>0</td>\n",
       "      <td>0</td>\n",
       "      <td>0</td>\n",
       "      <td>0</td>\n",
       "      <td>1</td>\n",
       "      <td>...</td>\n",
       "      <td>0</td>\n",
       "      <td>0</td>\n",
       "      <td>0</td>\n",
       "      <td>0</td>\n",
       "      <td>0</td>\n",
       "      <td>0</td>\n",
       "      <td>0</td>\n",
       "      <td>0</td>\n",
       "      <td>0</td>\n",
       "      <td>0</td>\n",
       "    </tr>\n",
       "    <tr>\n",
       "      <th>...</th>\n",
       "      <td>...</td>\n",
       "      <td>...</td>\n",
       "      <td>...</td>\n",
       "      <td>...</td>\n",
       "      <td>...</td>\n",
       "      <td>...</td>\n",
       "      <td>...</td>\n",
       "      <td>...</td>\n",
       "      <td>...</td>\n",
       "      <td>...</td>\n",
       "      <td>...</td>\n",
       "      <td>...</td>\n",
       "      <td>...</td>\n",
       "      <td>...</td>\n",
       "      <td>...</td>\n",
       "      <td>...</td>\n",
       "      <td>...</td>\n",
       "      <td>...</td>\n",
       "      <td>...</td>\n",
       "      <td>...</td>\n",
       "      <td>...</td>\n",
       "    </tr>\n",
       "    <tr>\n",
       "      <th>61834</th>\n",
       "      <td>18548</td>\n",
       "      <td>3</td>\n",
       "      <td>0</td>\n",
       "      <td>0</td>\n",
       "      <td>0</td>\n",
       "      <td>1</td>\n",
       "      <td>0</td>\n",
       "      <td>0</td>\n",
       "      <td>0</td>\n",
       "      <td>0</td>\n",
       "      <td>...</td>\n",
       "      <td>0</td>\n",
       "      <td>0</td>\n",
       "      <td>0</td>\n",
       "      <td>0</td>\n",
       "      <td>0</td>\n",
       "      <td>0</td>\n",
       "      <td>0</td>\n",
       "      <td>0</td>\n",
       "      <td>0</td>\n",
       "      <td>0</td>\n",
       "    </tr>\n",
       "    <tr>\n",
       "      <th>61835</th>\n",
       "      <td>18548</td>\n",
       "      <td>4</td>\n",
       "      <td>0</td>\n",
       "      <td>0</td>\n",
       "      <td>0</td>\n",
       "      <td>1</td>\n",
       "      <td>0</td>\n",
       "      <td>0</td>\n",
       "      <td>0</td>\n",
       "      <td>0</td>\n",
       "      <td>...</td>\n",
       "      <td>0</td>\n",
       "      <td>0</td>\n",
       "      <td>0</td>\n",
       "      <td>0</td>\n",
       "      <td>0</td>\n",
       "      <td>0</td>\n",
       "      <td>0</td>\n",
       "      <td>0</td>\n",
       "      <td>0</td>\n",
       "      <td>0</td>\n",
       "    </tr>\n",
       "    <tr>\n",
       "      <th>61836</th>\n",
       "      <td>18548</td>\n",
       "      <td>4</td>\n",
       "      <td>0</td>\n",
       "      <td>0</td>\n",
       "      <td>0</td>\n",
       "      <td>1</td>\n",
       "      <td>0</td>\n",
       "      <td>0</td>\n",
       "      <td>0</td>\n",
       "      <td>0</td>\n",
       "      <td>...</td>\n",
       "      <td>0</td>\n",
       "      <td>0</td>\n",
       "      <td>0</td>\n",
       "      <td>0</td>\n",
       "      <td>0</td>\n",
       "      <td>0</td>\n",
       "      <td>0</td>\n",
       "      <td>0</td>\n",
       "      <td>0</td>\n",
       "      <td>0</td>\n",
       "    </tr>\n",
       "    <tr>\n",
       "      <th>61837</th>\n",
       "      <td>18550</td>\n",
       "      <td>3</td>\n",
       "      <td>0</td>\n",
       "      <td>0</td>\n",
       "      <td>0</td>\n",
       "      <td>0</td>\n",
       "      <td>0</td>\n",
       "      <td>0</td>\n",
       "      <td>0</td>\n",
       "      <td>0</td>\n",
       "      <td>...</td>\n",
       "      <td>0</td>\n",
       "      <td>0</td>\n",
       "      <td>0</td>\n",
       "      <td>0</td>\n",
       "      <td>0</td>\n",
       "      <td>0</td>\n",
       "      <td>0</td>\n",
       "      <td>0</td>\n",
       "      <td>0</td>\n",
       "      <td>0</td>\n",
       "    </tr>\n",
       "    <tr>\n",
       "      <th>61838</th>\n",
       "      <td>18550</td>\n",
       "      <td>3</td>\n",
       "      <td>0</td>\n",
       "      <td>0</td>\n",
       "      <td>0</td>\n",
       "      <td>0</td>\n",
       "      <td>0</td>\n",
       "      <td>0</td>\n",
       "      <td>0</td>\n",
       "      <td>0</td>\n",
       "      <td>...</td>\n",
       "      <td>0</td>\n",
       "      <td>0</td>\n",
       "      <td>0</td>\n",
       "      <td>0</td>\n",
       "      <td>0</td>\n",
       "      <td>0</td>\n",
       "      <td>0</td>\n",
       "      <td>0</td>\n",
       "      <td>0</td>\n",
       "      <td>0</td>\n",
       "    </tr>\n",
       "  </tbody>\n",
       "</table>\n",
       "<p>61839 rows × 1327 columns</p>\n",
       "</div>"
      ],
      "text/plain": [
       "          id  volume  fault_severity  resource_type_1  resource_type_10  \\\n",
       "0          1       1               1                0                 0   \n",
       "1          1       2               1                0                 0   \n",
       "2          1       2               1                0                 0   \n",
       "3          1       1               1                0                 0   \n",
       "4          1       2               1                0                 0   \n",
       "...      ...     ...             ...              ...               ...   \n",
       "61834  18548       3               0                0                 0   \n",
       "61835  18548       4               0                0                 0   \n",
       "61836  18548       4               0                0                 0   \n",
       "61837  18550       3               0                0                 0   \n",
       "61838  18550       3               0                0                 0   \n",
       "\n",
       "       resource_type_2  resource_type_3  resource_type_4  resource_type_5  \\\n",
       "0                    0                0                0                0   \n",
       "1                    0                0                0                0   \n",
       "2                    0                0                0                0   \n",
       "3                    0                0                0                0   \n",
       "4                    0                0                0                0   \n",
       "...                ...              ...              ...              ...   \n",
       "61834                1                0                0                0   \n",
       "61835                1                0                0                0   \n",
       "61836                1                0                0                0   \n",
       "61837                0                0                0                0   \n",
       "61838                0                0                0                0   \n",
       "\n",
       "       resource_type_6  ...  location_987  location_989  location_99  \\\n",
       "0                    1  ...             0             0            0   \n",
       "1                    1  ...             0             0            0   \n",
       "2                    1  ...             0             0            0   \n",
       "3                    1  ...             0             0            0   \n",
       "4                    1  ...             0             0            0   \n",
       "...                ...  ...           ...           ...          ...   \n",
       "61834                0  ...             0             0            0   \n",
       "61835                0  ...             0             0            0   \n",
       "61836                0  ...             0             0            0   \n",
       "61837                0  ...             0             0            0   \n",
       "61838                0  ...             0             0            0   \n",
       "\n",
       "       location_990  location_991  location_994  location_995  location_996  \\\n",
       "0                 0             0             0             0             0   \n",
       "1                 0             0             0             0             0   \n",
       "2                 0             0             0             0             0   \n",
       "3                 0             0             0             0             0   \n",
       "4                 0             0             0             0             0   \n",
       "...             ...           ...           ...           ...           ...   \n",
       "61834             0             0             0             0             0   \n",
       "61835             0             0             0             0             0   \n",
       "61836             0             0             0             0             0   \n",
       "61837             0             0             0             0             0   \n",
       "61838             0             0             0             0             0   \n",
       "\n",
       "       location_998  location_999  \n",
       "0                 0             0  \n",
       "1                 0             0  \n",
       "2                 0             0  \n",
       "3                 0             0  \n",
       "4                 0             0  \n",
       "...             ...           ...  \n",
       "61834             0             0  \n",
       "61835             0             0  \n",
       "61836             0             0  \n",
       "61837             0             0  \n",
       "61838             0             0  \n",
       "\n",
       "[61839 rows x 1327 columns]"
      ]
     },
     "execution_count": 39,
     "metadata": {},
     "output_type": "execute_result"
    }
   ],
   "source": [
    "df.drop_duplicates()"
   ]
  },
  {
   "cell_type": "markdown",
   "id": "6e657d88",
   "metadata": {},
   "source": [
    "# Fit and predict"
   ]
  },
  {
   "cell_type": "code",
   "execution_count": 40,
   "id": "185493bb",
   "metadata": {},
   "outputs": [],
   "source": [
    "x=df.drop(\"fault_severity\",axis=1)\n",
    "y=df[\"fault_severity\"]"
   ]
  },
  {
   "cell_type": "code",
   "execution_count": 41,
   "id": "9e296c8c",
   "metadata": {
    "scrolled": true
   },
   "outputs": [
    {
     "data": {
      "text/plain": [
       "47133    877\n",
       "47135    662\n",
       "46896    647\n",
       "5081     636\n",
       "51607    632\n",
       "        ... \n",
       "42800      1\n",
       "42798      1\n",
       "42797      1\n",
       "42796      1\n",
       "0          1\n",
       "Name: volume, Length: 61839, dtype: int64"
      ]
     },
     "execution_count": 41,
     "metadata": {},
     "output_type": "execute_result"
    }
   ],
   "source": [
    "x[\"volume\"].sort_values(ascending=False)"
   ]
  },
  {
   "cell_type": "code",
   "execution_count": 42,
   "id": "b10cd06e",
   "metadata": {},
   "outputs": [],
   "source": [
    "x[\"volume\"]=x[\"volume\"]/877"
   ]
  },
  {
   "cell_type": "code",
   "execution_count": 43,
   "id": "5c38e5bb",
   "metadata": {},
   "outputs": [
    {
     "data": {
      "text/plain": [
       "47133    1.000000\n",
       "47135    0.754846\n",
       "46896    0.737742\n",
       "5081     0.725200\n",
       "51607    0.720639\n",
       "           ...   \n",
       "42800    0.001140\n",
       "42798    0.001140\n",
       "42797    0.001140\n",
       "42796    0.001140\n",
       "0        0.001140\n",
       "Name: volume, Length: 61839, dtype: float64"
      ]
     },
     "execution_count": 43,
     "metadata": {},
     "output_type": "execute_result"
    }
   ],
   "source": [
    "x[\"volume\"].sort_values(ascending=False)"
   ]
  },
  {
   "cell_type": "code",
   "execution_count": 44,
   "id": "cd624e51",
   "metadata": {},
   "outputs": [],
   "source": [
    "import pandas as pd\n",
    "import matplotlib.pyplot as plt\n",
    "%matplotlib inline\n",
    "import numpy as np\n",
    "import warnings\n",
    "warnings.filterwarnings(\"ignore\")\n",
    "warnings.simplefilter('ignore')\n",
    "import seaborn as sns"
   ]
  },
  {
   "cell_type": "code",
   "execution_count": 45,
   "id": "fc241331",
   "metadata": {},
   "outputs": [],
   "source": [
    "from sklearn.naive_bayes import GaussianNB , BernoulliNB # 2 şey için\n",
    "from sklearn.naive_bayes import MultinomialNB# 3 ve daha fazla için\n",
    "from sklearn.neighbors import KNeighborsClassifier\n",
    "from sklearn.svm import SVC\n",
    "from sklearn.tree import DecisionTreeClassifier9+562q\n",
    "from sklearn.linear_model import LogisticRegression\n",
    "from sklearn.ensemble import GradientBoostingClassifier\n",
    "from sklearn.metrics import accuracy_score,precision_score,recall_score,f1_score\n",
    "from sklearn.metrics import confusion_matrix,classification_report\n",
    "from sklearn.model_selection import train_test_split\n",
    "from sklearn.svm import SVC"
   ]
  },
  {
   "cell_type": "code",
   "execution_count": 46,
   "id": "c2446fe0",
   "metadata": {},
   "outputs": [],
   "source": [
    "x_train,x_test,y_train,y_test=train_test_split(x,y,random_state=42)"
   ]
  },
  {
   "cell_type": "code",
   "execution_count": 47,
   "id": "a8dd137a",
   "metadata": {},
   "outputs": [],
   "source": [
    "clf=DecisionTreeClassifier()\n",
    "dtc=clf.fit(x_train,y_train)\n",
    "y_pred_dtc=dtc.predict(x_test)"
   ]
  },
  {
   "cell_type": "code",
   "execution_count": 48,
   "id": "e2c577d4",
   "metadata": {},
   "outputs": [
    {
     "data": {
      "text/plain": [
       "0.9329236739974127"
      ]
     },
     "execution_count": 48,
     "metadata": {},
     "output_type": "execute_result"
    }
   ],
   "source": [
    "accuracy_score(y_pred_dtc,y_test)"
   ]
  },
  {
   "cell_type": "code",
   "execution_count": 57,
   "id": "394ec968",
   "metadata": {},
   "outputs": [],
   "source": [
    "clf=GradientBoostingClassifier(learning_rate=1.0,n_estimators=500)\n",
    "gbc=clf.fit(x_train,y_train)\n",
    "y_pred_gbc=gbc.predict(x_test)"
   ]
  },
  {
   "cell_type": "code",
   "execution_count": 58,
   "id": "d0091c6b",
   "metadata": {},
   "outputs": [
    {
     "data": {
      "text/plain": [
       "0.9345407503234152"
      ]
     },
     "execution_count": 58,
     "metadata": {},
     "output_type": "execute_result"
    }
   ],
   "source": [
    "accuracy_score(y_pred_gbc,y_test)"
   ]
  },
  {
   "cell_type": "code",
   "execution_count": 59,
   "id": "133625d6",
   "metadata": {},
   "outputs": [],
   "source": [
    "clf=KNeighborsClassifier(n_neighbors=2)\n",
    "knn=clf.fit(x_train,y_train)\n",
    "y_pred_knn=knn.predict(x_test)"
   ]
  },
  {
   "cell_type": "code",
   "execution_count": 60,
   "id": "5942aae1",
   "metadata": {},
   "outputs": [
    {
     "data": {
      "text/plain": [
       "0.9686287192755498"
      ]
     },
     "execution_count": 60,
     "metadata": {},
     "output_type": "execute_result"
    }
   ],
   "source": [
    "accuracy_score(y_pred_knn,y_test)"
   ]
  },
  {
   "cell_type": "code",
   "execution_count": 66,
   "id": "86bed786",
   "metadata": {},
   "outputs": [],
   "source": [
    "k=KNeighborsClassifier(n_neighbors=2)\n",
    "d=DecisionTreeClassifier()\n",
    "gbc=GradientBoostingClassifier(learning_rate=1.0)\n"
   ]
  },
  {
   "cell_type": "code",
   "execution_count": 67,
   "id": "9b910dd6",
   "metadata": {
    "scrolled": true
   },
   "outputs": [],
   "source": [
    "#önce yukarda olduğu gibi tanımlamak lazım\n",
    "algorithms = [k,d,gbc]\n",
    "names = ['KNearest', 'SingleTree',  'Gradient Boost']"
   ]
  },
  {
   "cell_type": "code",
   "execution_count": 68,
   "id": "a0000cb7",
   "metadata": {},
   "outputs": [],
   "source": [
    "def evaluate_model():\n",
    "    # fit the data\n",
    "    for i in range(len(algorithms)):\n",
    "        algorithms[i] = algorithms[i].fit(x_train, y_train)\n",
    "    # print metrics \n",
    "    accuracy = []\n",
    "    \n",
    "    for i in range(len(algorithms)):\n",
    "        if accuracy_score(y_test, algorithms[i].predict(x_test)) == 1:\n",
    "            accuracy.append(0)\n",
    "        else:   \n",
    "            accuracy.append(accuracy_score(y_test, algorithms[i].predict(x_test)))\n",
    "    metrics = pd.DataFrame(columns = ['Accuracy'], index = names)\n",
    "    metrics['Accuracy'] = accuracy\n",
    "    return metrics.sort_values('Accuracy', ascending = False)"
   ]
  },
  {
   "cell_type": "code",
   "execution_count": 69,
   "id": "95449ea9",
   "metadata": {},
   "outputs": [
    {
     "data": {
      "text/html": [
       "<div>\n",
       "<style scoped>\n",
       "    .dataframe tbody tr th:only-of-type {\n",
       "        vertical-align: middle;\n",
       "    }\n",
       "\n",
       "    .dataframe tbody tr th {\n",
       "        vertical-align: top;\n",
       "    }\n",
       "\n",
       "    .dataframe thead th {\n",
       "        text-align: right;\n",
       "    }\n",
       "</style>\n",
       "<table border=\"1\" class=\"dataframe\">\n",
       "  <thead>\n",
       "    <tr style=\"text-align: right;\">\n",
       "      <th></th>\n",
       "      <th>Accuracy</th>\n",
       "    </tr>\n",
       "  </thead>\n",
       "  <tbody>\n",
       "    <tr>\n",
       "      <th>K Nearest</th>\n",
       "      <td>0.958279</td>\n",
       "    </tr>\n",
       "    <tr>\n",
       "      <th>Single Tree</th>\n",
       "      <td>0.933312</td>\n",
       "    </tr>\n",
       "    <tr>\n",
       "      <th>Gradient Boost</th>\n",
       "      <td>0.863842</td>\n",
       "    </tr>\n",
       "    <tr>\n",
       "      <th>BernoulliNB</th>\n",
       "      <td>0.689521</td>\n",
       "    </tr>\n",
       "    <tr>\n",
       "      <th>GaussianNB</th>\n",
       "      <td>0.582147</td>\n",
       "    </tr>\n",
       "  </tbody>\n",
       "</table>\n",
       "</div>"
      ],
      "text/plain": [
       "                Accuracy\n",
       "K Nearest       0.958279\n",
       "Single Tree     0.933312\n",
       "Gradient Boost  0.863842\n",
       "BernoulliNB     0.689521\n",
       "GaussianNB      0.582147"
      ]
     },
     "execution_count": 69,
     "metadata": {},
     "output_type": "execute_result"
    }
   ],
   "source": [
    "evaluate_model()"
   ]
  },
  {
   "cell_type": "markdown",
   "id": "7147a5af",
   "metadata": {},
   "source": [
    "### result"
   ]
  },
  {
   "cell_type": "code",
   "execution_count": 71,
   "id": "a58cb528",
   "metadata": {},
   "outputs": [],
   "source": [
    "df=pd.read_clipboard()\n",
    "df.to_csv(\"result.csv\")"
   ]
  },
  {
   "cell_type": "code",
   "execution_count": 72,
   "id": "33acb5fb",
   "metadata": {},
   "outputs": [
    {
     "data": {
      "text/html": [
       "<div>\n",
       "<style scoped>\n",
       "    .dataframe tbody tr th:only-of-type {\n",
       "        vertical-align: middle;\n",
       "    }\n",
       "\n",
       "    .dataframe tbody tr th {\n",
       "        vertical-align: top;\n",
       "    }\n",
       "\n",
       "    .dataframe thead th {\n",
       "        text-align: right;\n",
       "    }\n",
       "</style>\n",
       "<table border=\"1\" class=\"dataframe\">\n",
       "  <thead>\n",
       "    <tr style=\"text-align: right;\">\n",
       "      <th></th>\n",
       "      <th></th>\n",
       "      <th>Accuracy</th>\n",
       "    </tr>\n",
       "  </thead>\n",
       "  <tbody>\n",
       "    <tr>\n",
       "      <th>K</th>\n",
       "      <th>Nearest</th>\n",
       "      <td>0.958279</td>\n",
       "    </tr>\n",
       "    <tr>\n",
       "      <th>Single</th>\n",
       "      <th>Tree</th>\n",
       "      <td>0.933312</td>\n",
       "    </tr>\n",
       "    <tr>\n",
       "      <th>Gradient</th>\n",
       "      <th>Boost</th>\n",
       "      <td>0.863842</td>\n",
       "    </tr>\n",
       "    <tr>\n",
       "      <th>BernoulliNB</th>\n",
       "      <th>0.689521</th>\n",
       "      <td>NaN</td>\n",
       "    </tr>\n",
       "    <tr>\n",
       "      <th>GaussianNB</th>\n",
       "      <th>0.582147</th>\n",
       "      <td>NaN</td>\n",
       "    </tr>\n",
       "  </tbody>\n",
       "</table>\n",
       "</div>"
      ],
      "text/plain": [
       "                      Accuracy\n",
       "K           Nearest   0.958279\n",
       "Single      Tree      0.933312\n",
       "Gradient    Boost     0.863842\n",
       "BernoulliNB 0.689521       NaN\n",
       "GaussianNB  0.582147       NaN"
      ]
     },
     "execution_count": 72,
     "metadata": {},
     "output_type": "execute_result"
    }
   ],
   "source": [
    "df"
   ]
  },
  {
   "cell_type": "code",
   "execution_count": 64,
   "id": "156307da",
   "metadata": {},
   "outputs": [],
   "source": [
    "y_pred_proba_gbc=gbc.predict_proba(x_test)"
   ]
  },
  {
   "cell_type": "code",
   "execution_count": 61,
   "id": "dc1e8022",
   "metadata": {},
   "outputs": [],
   "source": [
    "y_pred_proba_knn=knn.predict_proba(x_test)"
   ]
  },
  {
   "cell_type": "code",
   "execution_count": 68,
   "id": "121d264e",
   "metadata": {},
   "outputs": [],
   "source": [
    "result=pd.DataFrame({\"id\":x_test.id,\n",
    "                     \"KNN Predicted fault_severity\":y_pred_knn,\n",
    "                     \"GBC Predicted fault_severity\":y_pred_gbc,\n",
    "                    \"KNN Prediction probability 0\":y_pred_proba_knn[:,0],\n",
    "                    \"KNN Prediction probability 1\":y_pred_proba_knn[:,1],\n",
    "                    \"KNN Prediction probability 2\":y_pred_proba_knn[:,2],\n",
    "                    \"GBC Prediction probability 0\":y_pred_proba_gbc[:,0],\n",
    "                    \"GBC Prediction probability 1\":y_pred_proba_gbc[:,1],\n",
    "                    \"GBC Prediction probability 2\":y_pred_proba_gbc[:,2],\n",
    "                    })"
   ]
  },
  {
   "cell_type": "code",
   "execution_count": 69,
   "id": "06b51eed",
   "metadata": {},
   "outputs": [
    {
     "data": {
      "text/html": [
       "<div>\n",
       "<style scoped>\n",
       "    .dataframe tbody tr th:only-of-type {\n",
       "        vertical-align: middle;\n",
       "    }\n",
       "\n",
       "    .dataframe tbody tr th {\n",
       "        vertical-align: top;\n",
       "    }\n",
       "\n",
       "    .dataframe thead th {\n",
       "        text-align: right;\n",
       "    }\n",
       "</style>\n",
       "<table border=\"1\" class=\"dataframe\">\n",
       "  <thead>\n",
       "    <tr style=\"text-align: right;\">\n",
       "      <th></th>\n",
       "      <th>id</th>\n",
       "      <th>KNN Predicted fault_severity</th>\n",
       "      <th>GBC Predicted fault_severity</th>\n",
       "      <th>KNN Prediction probability 0</th>\n",
       "      <th>KNN Prediction probability 1</th>\n",
       "      <th>KNN Prediction probability 2</th>\n",
       "      <th>GBC Prediction probability 0</th>\n",
       "      <th>GBC Prediction probability 1</th>\n",
       "      <th>GBC Prediction probability 2</th>\n",
       "    </tr>\n",
       "  </thead>\n",
       "  <tbody>\n",
       "    <tr>\n",
       "      <th>32241</th>\n",
       "      <td>9380</td>\n",
       "      <td>2</td>\n",
       "      <td>1</td>\n",
       "      <td>0.0</td>\n",
       "      <td>0.0</td>\n",
       "      <td>1.0</td>\n",
       "      <td>0.083450</td>\n",
       "      <td>0.915453</td>\n",
       "      <td>0.001097</td>\n",
       "    </tr>\n",
       "    <tr>\n",
       "      <th>28051</th>\n",
       "      <td>7984</td>\n",
       "      <td>0</td>\n",
       "      <td>0</td>\n",
       "      <td>1.0</td>\n",
       "      <td>0.0</td>\n",
       "      <td>0.0</td>\n",
       "      <td>0.841686</td>\n",
       "      <td>0.145349</td>\n",
       "      <td>0.012965</td>\n",
       "    </tr>\n",
       "    <tr>\n",
       "      <th>6145</th>\n",
       "      <td>1773</td>\n",
       "      <td>1</td>\n",
       "      <td>1</td>\n",
       "      <td>0.0</td>\n",
       "      <td>1.0</td>\n",
       "      <td>0.0</td>\n",
       "      <td>0.457504</td>\n",
       "      <td>0.537246</td>\n",
       "      <td>0.005250</td>\n",
       "    </tr>\n",
       "    <tr>\n",
       "      <th>38955</th>\n",
       "      <td>11608</td>\n",
       "      <td>1</td>\n",
       "      <td>1</td>\n",
       "      <td>0.0</td>\n",
       "      <td>1.0</td>\n",
       "      <td>0.0</td>\n",
       "      <td>0.056722</td>\n",
       "      <td>0.940101</td>\n",
       "      <td>0.003177</td>\n",
       "    </tr>\n",
       "    <tr>\n",
       "      <th>52923</th>\n",
       "      <td>15912</td>\n",
       "      <td>1</td>\n",
       "      <td>1</td>\n",
       "      <td>0.0</td>\n",
       "      <td>1.0</td>\n",
       "      <td>0.0</td>\n",
       "      <td>0.063862</td>\n",
       "      <td>0.935211</td>\n",
       "      <td>0.000927</td>\n",
       "    </tr>\n",
       "  </tbody>\n",
       "</table>\n",
       "</div>"
      ],
      "text/plain": [
       "          id  KNN Predicted fault_severity  GBC Predicted fault_severity  \\\n",
       "32241   9380                             2                             1   \n",
       "28051   7984                             0                             0   \n",
       "6145    1773                             1                             1   \n",
       "38955  11608                             1                             1   \n",
       "52923  15912                             1                             1   \n",
       "\n",
       "       KNN Prediction probability 0  KNN Prediction probability 1  \\\n",
       "32241                           0.0                           0.0   \n",
       "28051                           1.0                           0.0   \n",
       "6145                            0.0                           1.0   \n",
       "38955                           0.0                           1.0   \n",
       "52923                           0.0                           1.0   \n",
       "\n",
       "       KNN Prediction probability 2  GBC Prediction probability 0  \\\n",
       "32241                           1.0                      0.083450   \n",
       "28051                           0.0                      0.841686   \n",
       "6145                            0.0                      0.457504   \n",
       "38955                           0.0                      0.056722   \n",
       "52923                           0.0                      0.063862   \n",
       "\n",
       "       GBC Prediction probability 1  GBC Prediction probability 2  \n",
       "32241                      0.915453                      0.001097  \n",
       "28051                      0.145349                      0.012965  \n",
       "6145                       0.537246                      0.005250  \n",
       "38955                      0.940101                      0.003177  \n",
       "52923                      0.935211                      0.000927  "
      ]
     },
     "execution_count": 69,
     "metadata": {},
     "output_type": "execute_result"
    }
   ],
   "source": [
    "result.head()"
   ]
  },
  {
   "cell_type": "code",
   "execution_count": 70,
   "id": "d1dd47b6",
   "metadata": {},
   "outputs": [],
   "source": [
    "result.to_csv(\"result.csv\")"
   ]
  },
  {
   "cell_type": "code",
   "execution_count": null,
   "id": "f50c3d16",
   "metadata": {},
   "outputs": [],
   "source": []
  }
 ],
 "metadata": {
  "kernelspec": {
   "display_name": "Python 3 (ipykernel)",
   "language": "python",
   "name": "python3"
  },
  "language_info": {
   "codemirror_mode": {
    "name": "ipython",
    "version": 3
   },
   "file_extension": ".py",
   "mimetype": "text/x-python",
   "name": "python",
   "nbconvert_exporter": "python",
   "pygments_lexer": "ipython3",
   "version": "3.9.7"
  }
 },
 "nbformat": 4,
 "nbformat_minor": 5
}
